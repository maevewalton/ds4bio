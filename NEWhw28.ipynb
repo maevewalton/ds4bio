{
  "nbformat": 4,
  "nbformat_minor": 0,
  "metadata": {
    "colab": {
      "provenance": [],
      "authorship_tag": "ABX9TyPJgoYccrwqd/jnHjeWevyx",
      "include_colab_link": true
    },
    "kernelspec": {
      "name": "python3",
      "display_name": "Python 3"
    },
    "language_info": {
      "name": "python"
    }
  },
  "cells": [
    {
      "cell_type": "markdown",
      "metadata": {
        "id": "view-in-github",
        "colab_type": "text"
      },
      "source": [
        "<a href=\"https://colab.research.google.com/github/maevewalton/ds4bio/blob/main/NEWhw28.ipynb\" target=\"_parent\"><img src=\"https://colab.research.google.com/assets/colab-badge.svg\" alt=\"Open In Colab\"/></a>"
      ]
    },
    {
      "cell_type": "markdown",
      "source": [
        "1) name one purpose for github."
      ],
      "metadata": {
        "id": "G_XQoM_cJrs8"
      }
    },
    {
      "cell_type": "code",
      "source": [
        "# Easily share coding notebooks on one site."
      ],
      "metadata": {
        "id": "oNJpyciCJrdR"
      },
      "execution_count": null,
      "outputs": []
    },
    {
      "cell_type": "markdown",
      "source": [
        "2) describe what is version control in your own words and how it could help you in your project."
      ],
      "metadata": {
        "id": "DuIN1_EGJsKL"
      }
    },
    {
      "cell_type": "code",
      "source": [
        "# Version control essentially allows a user to keep tabs on any updates or suggestions to a project before commiting them\n",
        "# into the project. It can be viewed as a draft instead of working on the main file and potenially altering important code."
      ],
      "metadata": {
        "id": "xfqO3otlJrII"
      },
      "execution_count": null,
      "outputs": []
    },
    {
      "cell_type": "markdown",
      "source": [
        "3) explain how in a group project (which we are not doing) github could help manage collaboration."
      ],
      "metadata": {
        "id": "iPUMFZAIJsla"
      }
    },
    {
      "cell_type": "code",
      "execution_count": null,
      "metadata": {
        "id": "nh_9ztf3Jgld"
      },
      "outputs": [],
      "source": [
        "# Github seems to more accessible in terms of collaboration on a project than terminal or google colab, since\n",
        "# multiple people can access files that might be different formats, like a jupiter notebook vs. a terminal file."
      ]
    }
  ]
}